{
 "cells": [
  {
   "cell_type": "markdown",
   "id": "a5b853fc-0331-4e05-9881-1d98ab6a63bf",
   "metadata": {},
   "source": [
    "Handwritten digit recognition system not only detects\n",
    "scanned images of handwritten digits.Handwritten digit\n",
    "recognition using MNIST dataset is a major project made\n",
    "\n",
    "with the help of Neural Network. It basically detects\n",
    "the scanned images of handwritten digits."
   ]
  },
  {
   "cell_type": "code",
   "execution_count": 107,
   "id": "48628068-79ae-4a4f-a534-fad5e970ec1f",
   "metadata": {},
   "outputs": [],
   "source": [
    "import keras\n",
    "from keras.datasets import mnist\n",
    "from keras.models import Sequential\n",
    "from keras.layers import Dense, Dropout\n",
    "from keras.optimizers import RMSprop\n"
   ]
  },
  {
   "cell_type": "code",
   "execution_count": 109,
   "id": "4ed1a624-4273-4234-b46b-978f073beea6",
   "metadata": {},
   "outputs": [],
   "source": [
    "(x_train, y_train), (x_test, y_test) = mnist.load_data()"
   ]
  },
  {
   "cell_type": "code",
   "execution_count": 111,
   "id": "bc2c2726-8651-4eeb-9cb7-74079418d98e",
   "metadata": {},
   "outputs": [],
   "source": [
    "x_train = x_train.reshape(60000, 784)  # Flatten the images to 1D array\n",
    "x_test = x_test.reshape(10000, 784)\n",
    "x_train = x_train.astype('float32') / 255  # Normalize pixel values between 0 and 1\n",
    "x_test = x_test.astype('float32') / 255\n"
   ]
  },
  {
   "cell_type": "code",
   "execution_count": 113,
   "id": "172a5578-234b-4bbc-adfa-4ef445d76731",
   "metadata": {},
   "outputs": [],
   "source": [
    "# Convert class labels to one-hot encoded vectors\n",
    "num_classes = 10\n",
    "y_train = keras.utils.to_categorical(y_train, num_classes)\n",
    "y_test = keras.utils.to_categorical(y_test, num_classes)\n"
   ]
  },
  {
   "cell_type": "code",
   "execution_count": 115,
   "id": "f51a4895-eeb3-49c0-ab42-a938a7541041",
   "metadata": {},
   "outputs": [],
   "source": [
    "model = Sequential()\n",
    "model.add(Dense(512, activation='relu', input_shape=(784,)))\n",
    "model.add(Dropout(0.2))\n",
    "model.add(Dense(512, activation='relu'))\n",
    "model.add(Dropout(0.2))\n",
    "model.add(Dense(num_classes, activation='softmax'))\n"
   ]
  },
  {
   "cell_type": "code",
   "execution_count": 117,
   "id": "6201da64-fafe-4aa9-8d8d-fa5e3f6fddd0",
   "metadata": {},
   "outputs": [],
   "source": [
    "# Compile the model\n",
    "model.compile(loss='categorical_crossentropy',\n",
    "              optimizer=RMSprop(),\n",
    "              metrics=['accuracy'])\n"
   ]
  },
  {
   "cell_type": "code",
   "execution_count": 119,
   "id": "b37ca50c-1ce1-4828-9498-2979a78d5b41",
   "metadata": {},
   "outputs": [
    {
     "name": "stdout",
     "output_type": "stream",
     "text": [
      "Epoch 1/10\n",
      "469/469 [==============================] - 4s 8ms/step - loss: 0.2581 - accuracy: 0.9200 - val_loss: 0.1390 - val_accuracy: 0.9560\n",
      "Epoch 2/10\n",
      "469/469 [==============================] - 4s 8ms/step - loss: 0.1040 - accuracy: 0.9679 - val_loss: 0.0823 - val_accuracy: 0.9754\n",
      "Epoch 3/10\n",
      "469/469 [==============================] - 4s 8ms/step - loss: 0.0745 - accuracy: 0.9766 - val_loss: 0.0666 - val_accuracy: 0.9801\n",
      "Epoch 4/10\n",
      "469/469 [==============================] - 3s 7ms/step - loss: 0.0583 - accuracy: 0.9822 - val_loss: 0.0706 - val_accuracy: 0.9794\n",
      "Epoch 5/10\n",
      "469/469 [==============================] - 3s 7ms/step - loss: 0.0466 - accuracy: 0.9854 - val_loss: 0.0632 - val_accuracy: 0.9810\n",
      "Epoch 6/10\n",
      "469/469 [==============================] - 4s 8ms/step - loss: 0.0399 - accuracy: 0.9875 - val_loss: 0.0651 - val_accuracy: 0.9816\n",
      "Epoch 7/10\n",
      "469/469 [==============================] - 4s 8ms/step - loss: 0.0336 - accuracy: 0.9890 - val_loss: 0.0702 - val_accuracy: 0.9813\n",
      "Epoch 8/10\n",
      "469/469 [==============================] - 6s 13ms/step - loss: 0.0279 - accuracy: 0.9908 - val_loss: 0.0644 - val_accuracy: 0.9825\n",
      "Epoch 9/10\n",
      "469/469 [==============================] - 4s 8ms/step - loss: 0.0273 - accuracy: 0.9913 - val_loss: 0.0671 - val_accuracy: 0.9824\n",
      "Epoch 10/10\n",
      "469/469 [==============================] - 3s 7ms/step - loss: 0.0228 - accuracy: 0.9929 - val_loss: 0.0742 - val_accuracy: 0.9823\n"
     ]
    }
   ],
   "source": [
    "batch_size = 128\n",
    "epochs = 10\n",
    "history = model.fit(x_train, y_train,\n",
    "                    batch_size=batch_size,\n",
    "                    epochs=epochs,\n",
    "                    verbose=1,\n",
    "                    validation_data=(x_test, y_test))\n",
    "\n",
    "# Evaluate the mode"
   ]
  },
  {
   "cell_type": "code",
   "execution_count": 87,
   "id": "8084791a-e92a-4e13-aea7-62a30e8b4f8c",
   "metadata": {},
   "outputs": [
    {
     "name": "stdout",
     "output_type": "stream",
     "text": [
      "Test loss: 0.06955394893884659\n",
      "Test accuracy: 0.9836000204086304\n"
     ]
    }
   ],
   "source": [
    "score = model.evaluate(x_test, y_test, verbose=0)\n",
    "print('Test loss:', score[0])\n",
    "print('Test accuracy:', score[1])"
   ]
  },
  {
   "cell_type": "code",
   "execution_count": null,
   "id": "4574e593-e7cd-40ef-b6d8-e897225b7253",
   "metadata": {},
   "outputs": [],
   "source": []
  },
  {
   "cell_type": "code",
   "execution_count": null,
   "id": "e8d3ec8c-9c2e-486e-815a-d674cb37f840",
   "metadata": {},
   "outputs": [],
   "source": []
  }
 ],
 "metadata": {
  "kernelspec": {
   "display_name": "anaconda-panel-2023.05-py310",
   "language": "python",
   "name": "conda-env-anaconda-panel-2023.05-py310-py"
  },
  "language_info": {
   "codemirror_mode": {
    "name": "ipython",
    "version": 3
   },
   "file_extension": ".py",
   "mimetype": "text/x-python",
   "name": "python",
   "nbconvert_exporter": "python",
   "pygments_lexer": "ipython3",
   "version": "3.11.4"
  }
 },
 "nbformat": 4,
 "nbformat_minor": 5
}
